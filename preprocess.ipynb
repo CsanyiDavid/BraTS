{
 "cells": [
  {
   "cell_type": "code",
   "execution_count": 1,
   "id": "354881e3-e428-4f6d-87d6-6784c0425859",
   "metadata": {},
   "outputs": [
    {
     "name": "stdout",
     "output_type": "stream",
     "text": [
      "/home/csanyid/BraTS\n"
     ]
    }
   ],
   "source": [
    "import os\n",
    "import numpy as np\n",
    "import SimpleITK as sitk\n",
    "import matplotlib.pyplot as plt\n",
    "import json\n",
    "print(os.getcwd())"
   ]
  },
  {
   "cell_type": "code",
   "execution_count": 2,
   "id": "c787f97d-52de-4bd2-adf4-7717b225956a",
   "metadata": {},
   "outputs": [
    {
     "name": "stdout",
     "output_type": "stream",
     "text": [
      "True\n"
     ]
    }
   ],
   "source": [
    "mri_types = ['t1', 't1ce', 't2', 'flair', 'seg']\n",
    "\n",
    "base_dir = '/home/csanyid/BraTS'\n",
    "data_dir = os.path.join(base_dir, 'data/train')\n",
    "preprocessed_train_dir = os.path.join(base_dir, 'data/preprocessed_train')\n",
    "preprocessed_val_dir = os.path.join(base_dir, 'data/preprocessed_val')\n",
    "os.makedirs(preprocessed_train_dir, exist_ok=True)\n",
    "os.makedirs(preprocessed_val_dir, exist_ok=True)\n",
    "print(os.path.isdir(data_dir))"
   ]
  },
  {
   "cell_type": "code",
   "execution_count": 5,
   "id": "72fb251f-b952-4a83-b05c-4b127882d133",
   "metadata": {},
   "outputs": [
    {
     "name": "stdout",
     "output_type": "stream",
     "text": [
      "10\n",
      "20\n",
      "30\n",
      "40\n",
      "50\n",
      "60\n",
      "70\n",
      "80\n",
      "90\n",
      "100\n",
      "110\n",
      "120\n",
      "130\n",
      "140\n",
      "150\n",
      "160\n",
      "170\n",
      "180\n",
      "190\n",
      "200\n",
      "210\n",
      "220\n",
      "230\n",
      "240\n",
      "250\n",
      "260\n",
      "270\n",
      "280\n",
      "290\n",
      "300\n",
      "310\n",
      "320\n",
      "330\n",
      "340\n",
      "350\n",
      "360\n"
     ]
    }
   ],
   "source": [
    "cnt = 0\n",
    "val_from = 270\n",
    "for folder in [i for i in os.listdir(data_dir) if i.startswith('BraTS20_')]:\n",
    "    case_id = folder[-3:]\n",
    "    images = {}\n",
    "    for t in mri_types:\n",
    "        image_name = os.path.join(data_dir, folder, folder + '_' + t + '.nii')\n",
    "        image = sitk.GetArrayFromImage(sitk.ReadImage(image_name))\n",
    "        image = image[1:145].astype('float32')\n",
    "        images[t] =  np.pad(image, ((8,8),(8,8),(8,8)))\n",
    "        \n",
    "    images['seg'][images['seg'] != 0] = 1\n",
    "    \n",
    "    concatenated_image = np.concatenate([i[None, :, :, :] for i in images.values()], axis=0)\n",
    "    if int(case_id)<val_from:\n",
    "        destination = os.path.join(preprocessed_train_dir, case_id +'.npy')\n",
    "    else:\n",
    "        destination = os.path.join(preprocessed_val_dir, case_id +'.npy')\n",
    "    np.save(destination, concatenated_image)\n",
    "    cnt+=1\n",
    "    if cnt%10 == 0:\n",
    "        print(cnt)"
   ]
  },
  {
   "cell_type": "code",
   "execution_count": null,
   "id": "632ae4f0-0269-4aae-9fc1-ff8fc67a6682",
   "metadata": {},
   "outputs": [],
   "source": []
  }
 ],
 "metadata": {
  "kernelspec": {
   "display_name": "Python 3",
   "language": "python",
   "name": "python3"
  },
  "language_info": {
   "codemirror_mode": {
    "name": "ipython",
    "version": 3
   },
   "file_extension": ".py",
   "mimetype": "text/x-python",
   "name": "python",
   "nbconvert_exporter": "python",
   "pygments_lexer": "ipython3",
   "version": "3.7.11"
  }
 },
 "nbformat": 4,
 "nbformat_minor": 5
}
