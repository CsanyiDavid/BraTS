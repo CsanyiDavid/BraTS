{
 "cells": [
  {
   "cell_type": "code",
   "execution_count": 1,
   "id": "d1a6ffff-1414-4a40-b5c6-d6823e94adf8",
   "metadata": {},
   "outputs": [],
   "source": [
    "import torch\n",
    "from torch import nn\n",
    "import torch.nn.functional as F\n",
    "import numpy as np\n",
    "from dataloader import train_dl, val_dl, augment\n",
    "from unet import UNet, ConvBlock\n",
    "from loss_functions import DiceLoss, FocalTverskyLoss, dice_score\n",
    "from tqdm import tqdm\n",
    "import matplotlib.pyplot as plt\n",
    "import json\n",
    "import time\n",
    "import os\n",
    "from tqdm import tqdm\n",
    "import ipywidgets as widgets\n",
    "from ipywidgets import interact_manual, interact, IntSlider\n",
    "import SimpleITK as sitk"
   ]
  },
  {
   "cell_type": "code",
   "execution_count": 7,
   "id": "05f35272-5f88-4744-b5a8-58262139f32f",
   "metadata": {},
   "outputs": [],
   "source": [
    "patient = '001'\n",
    "folder = 'data/preprocessed_train'\n",
    "image_path = os.path.join(folder, patient +'.npy')\n",
    "a = np.load(image_path)"
   ]
  },
  {
   "cell_type": "code",
   "execution_count": 13,
   "id": "7e72d172-ad5d-472d-a42c-ad3673ae7c00",
   "metadata": {},
   "outputs": [
    {
     "data": {
      "application/vnd.jupyter.widget-view+json": {
       "model_id": "a7b003a2942f4782be124239f84c0f63",
       "version_major": 2,
       "version_minor": 0
      },
      "text/plain": [
       "interactive(children=(IntSlider(value=77, description='coord_z', max=154), Output()), _dom_classes=('widget-in…"
      ]
     },
     "metadata": {},
     "output_type": "display_data"
    }
   ],
   "source": [
    "image1 = a[0]\n",
    "image2 = augment(a)[0]\n",
    "\n",
    "slider = IntSlider(value=77, min=0, max=154, step=1, orientation='horizontal', \n",
    "                   continuous_update = True, readout=True)\n",
    "\n",
    "@interact\n",
    "def show_slice(coord_z = slider):\n",
    "\n",
    "    plt.figure(figsize=(8, 8))\n",
    "    plt.subplot(1, 2, 1)\n",
    "    plt.imshow(image1[coord_z], cmap='gray')\n",
    "    plt.title('t1')\n",
    "    plt.axis('off')\n",
    "\n",
    "    plt.subplot(1, 2, 2)\n",
    "    plt.imshow(image2[coord_z], cmap='gray')\n",
    "    plt.axis('off')\n",
    "    plt.title('augmented t1')\n",
    "    plt.show()"
   ]
  },
  {
   "cell_type": "code",
   "execution_count": null,
   "id": "7d6f18e0-8a55-4259-9773-512740a8aef0",
   "metadata": {},
   "outputs": [],
   "source": []
  }
 ],
 "metadata": {
  "kernelspec": {
   "display_name": "Python 3",
   "language": "python",
   "name": "python3"
  },
  "language_info": {
   "codemirror_mode": {
    "name": "ipython",
    "version": 3
   },
   "file_extension": ".py",
   "mimetype": "text/x-python",
   "name": "python",
   "nbconvert_exporter": "python",
   "pygments_lexer": "ipython3",
   "version": "3.7.11"
  }
 },
 "nbformat": 4,
 "nbformat_minor": 5
}
