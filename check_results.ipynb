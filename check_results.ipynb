{
 "cells": [
  {
   "cell_type": "code",
   "execution_count": 1,
   "id": "26bc808b-7e2c-4307-a07b-9496445dd24a",
   "metadata": {},
   "outputs": [
    {
     "name": "stdout",
     "output_type": "stream",
     "text": [
      "AUGMENTATION:  True\n"
     ]
    }
   ],
   "source": [
    "import torch\n",
    "from torch import nn\n",
    "import torch.nn.functional as F\n",
    "import numpy as np\n",
    "from dataloader import train_dl, val_dl\n",
    "from unet import UNet, ConvBlock\n",
    "from loss_functions import DiceLoss, FocalTverskyLoss, dice_score\n",
    "from tqdm import tqdm\n",
    "import matplotlib.pyplot as plt\n",
    "import json\n",
    "import time\n",
    "import os\n",
    "from tqdm import tqdm\n",
    "import ipywidgets as widgets\n",
    "from ipywidgets import interact_manual, interact, IntSlider\n",
    "import SimpleITK as sitk"
   ]
  },
  {
   "cell_type": "code",
   "execution_count": 2,
   "id": "3c444c43-c514-49b3-970c-3a98045928e1",
   "metadata": {},
   "outputs": [],
   "source": [
    "folder = '.'\n",
    "device = torch.device(\"cpu\")\n",
    "model = torch.load(os.path.join(folder, 'model.pth')).to(device)"
   ]
  },
  {
   "cell_type": "code",
   "execution_count": 3,
   "id": "c1bcd6df-56dc-4638-a2af-81caebc5b095",
   "metadata": {},
   "outputs": [
    {
     "name": "stdout",
     "output_type": "stream",
     "text": [
      "torch.Size([8, 4, 160, 256, 256])\n",
      "torch.Size([8, 1, 160, 256, 256])\n"
     ]
    }
   ],
   "source": [
    "x, y = next(iter(val_dl))\n",
    "x, y = x.to(device), y.to(device)\n",
    "print(x.shape)\n",
    "print(y.shape)"
   ]
  },
  {
   "cell_type": "code",
   "execution_count": 4,
   "id": "c6ef378d-7d2c-4f14-b12d-b8f895a6a17c",
   "metadata": {},
   "outputs": [
    {
     "name": "stdout",
     "output_type": "stream",
     "text": [
      "torch.Size([8, 1, 160, 256, 256])\n"
     ]
    }
   ],
   "source": [
    "pred = model(x)\n",
    "print(pred.shape)"
   ]
  },
  {
   "cell_type": "code",
   "execution_count": 5,
   "id": "b635eb0b-83dc-48a4-92a9-b6e161bc4da6",
   "metadata": {},
   "outputs": [
    {
     "data": {
      "application/vnd.jupyter.widget-view+json": {
       "model_id": "1a5e13deae9f44eb8ad43f291d0d9079",
       "version_major": 2,
       "version_minor": 0
      },
      "text/plain": [
       "interactive(children=(Dropdown(description='patient', options=(0, 1, 2, 3, 4, 5, 6, 7), value=0), Button(descr…"
      ]
     },
     "metadata": {},
     "output_type": "display_data"
    }
   ],
   "source": [
    "mri_types = ['t1', 't1ce', 't2', 'flair', 'segm', 'pred']\n",
    "\n",
    "@interact_manual\n",
    "def choose_patient(patient=range(0, 8)):\n",
    "    \n",
    "    images = {'t1' : x[patient, 0, :, :, :].detach().to('cpu'),\n",
    "              't1ce' : x[patient, 1, :, :, :].detach().to('cpu'),\n",
    "              't2' : x[patient, 2, :, :, :].detach().to('cpu'),\n",
    "              'flair' : x[patient, 3, :, :, :].detach().to('cpu'),\n",
    "              'segm' : y[patient, 0, :, :, :].detach().to('cpu'),\n",
    "              'pred' : pred[patient, 0, :, :, :].detach().to('cpu')}\n",
    "    \n",
    "    @interact_manual\n",
    "    def choose_mri_type1(mri_type1 = mri_types):\n",
    "        \n",
    "        @interact_manual\n",
    "        def choose_mri_type2(mri_type2 = mri_types):\n",
    "        \n",
    "            slider = IntSlider(value=77, min=0, max=154, step=1, orientation='horizontal', \n",
    "                               continuous_update = True, readout=True)\n",
    "\n",
    "            @interact\n",
    "            def show_slice(coord_z = slider):\n",
    "                image1 = images[mri_type1]\n",
    "                image2 = images[mri_type2]\n",
    "\n",
    "                plt.figure(figsize=(8, 8))\n",
    "                plt.subplot(1, 2, 1)\n",
    "                plt.imshow(image1[coord_z], cmap='gray')\n",
    "                plt.axis('off')\n",
    "\n",
    "                plt.subplot(1, 2, 2)\n",
    "                plt.imshow(image2[coord_z], cmap='gray')\n",
    "                plt.axis('off')\n",
    "                plt.show()"
   ]
  },
  {
   "cell_type": "code",
   "execution_count": 6,
   "id": "231b315b-6e55-4e9e-b59a-4826aa51d70a",
   "metadata": {},
   "outputs": [],
   "source": [
    "del x, y, pred\n",
    "torch.cuda.empty_cache()"
   ]
  },
  {
   "cell_type": "code",
   "execution_count": 7,
   "id": "fed9778b-83c9-487d-97f1-7c1b5058bb4f",
   "metadata": {},
   "outputs": [],
   "source": [
    "def evaluate(dl):\n",
    "    dscs = []\n",
    "    for x, y in tqdm(dl):\n",
    "        x, y = x.to(device), y.to(device)\n",
    "        pred = model(x).detach().to('cpu')\n",
    "        y = y.detach().to('cpu')\n",
    "        dsc = dice_score(y, pred)\n",
    "        dscs.append(dsc)\n",
    "        \n",
    "        del x, y, pred\n",
    "        torch.cuda.empty_cache()\n",
    "        \n",
    "    mean_dsc = sum(dscs) / len(dscs)\n",
    "    return mean_dsc"
   ]
  },
  {
   "cell_type": "code",
   "execution_count": 8,
   "id": "bc4c1422-68f9-4a8d-a90e-d4c8aa666769",
   "metadata": {},
   "outputs": [
    {
     "name": "stderr",
     "output_type": "stream",
     "text": [
      "100%|██████████| 13/13 [02:20<00:00, 10.82s/it]"
     ]
    },
    {
     "name": "stdout",
     "output_type": "stream",
     "text": [
      "val dsc:  0.6745324514492814\n"
     ]
    },
    {
     "name": "stderr",
     "output_type": "stream",
     "text": [
      "\n"
     ]
    }
   ],
   "source": [
    "#mean_dsc = evaluate(train_dl)\n",
    "#print('train dsc: ', mean_dsc)\n",
    "\n",
    "mean_dsc = evaluate(val_dl)\n",
    "print('val dsc: ', mean_dsc)"
   ]
  },
  {
   "cell_type": "markdown",
   "id": "7b05db99-b368-4f5a-9796-f5cb0163b8c9",
   "metadata": {
    "tags": []
   },
   "source": [
    "# Save validation predictions to hdf5"
   ]
  },
  {
   "cell_type": "code",
   "execution_count": 3,
   "id": "b9d0c989-5869-458f-861d-c687b0146e15",
   "metadata": {},
   "outputs": [],
   "source": [
    "from dataloader import val_ds\n",
    "import h5py"
   ]
  },
  {
   "cell_type": "code",
   "execution_count": 15,
   "id": "e44c27b5-9500-4852-89af-b739aeb9ddd4",
   "metadata": {},
   "outputs": [
    {
     "name": "stderr",
     "output_type": "stream",
     "text": [
      "100%|██████████| 100/100 [02:36<00:00,  1.57s/it]\n"
     ]
    }
   ],
   "source": [
    "file = 'val_preds.hdf5'\n",
    "with h5py.File(file, 'w') as hf:\n",
    "    for i in tqdm(range(len(val_ds))):\n",
    "        x, y, patient_id = val_ds[i]\n",
    "        x_tensor = torch.from_numpy(x).to(device)\n",
    "        pred = model(x_tensor[None, ...])[0].detach().to('cpu')\n",
    "        pred = np.array(pred)\n",
    "        hf.create_dataset(str(i), data=pred)\n",
    "        \n",
    "    hf.close()"
   ]
  },
  {
   "cell_type": "code",
   "execution_count": null,
   "id": "cc7dcb25-f464-4677-855b-414b26eb508e",
   "metadata": {},
   "outputs": [],
   "source": []
  }
 ],
 "metadata": {
  "kernelspec": {
   "display_name": "Python 3",
   "language": "python",
   "name": "python3"
  },
  "language_info": {
   "codemirror_mode": {
    "name": "ipython",
    "version": 3
   },
   "file_extension": ".py",
   "mimetype": "text/x-python",
   "name": "python",
   "nbconvert_exporter": "python",
   "pygments_lexer": "ipython3",
   "version": "3.7.11"
  }
 },
 "nbformat": 4,
 "nbformat_minor": 5
}
