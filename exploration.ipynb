{
 "cells": [
  {
   "cell_type": "code",
   "execution_count": 1,
   "id": "637ede93",
   "metadata": {},
   "outputs": [
    {
     "name": "stdout",
     "output_type": "stream",
     "text": [
      "/home/csanyid/BraTS\n"
     ]
    }
   ],
   "source": [
    "import os\n",
    "import numpy as np\n",
    "import SimpleITK as sitk\n",
    "import matplotlib.pyplot as plt\n",
    "import json\n",
    "print(os.getcwd())"
   ]
  },
  {
   "cell_type": "code",
   "execution_count": 2,
   "id": "3ed7e6b3-5e60-4203-b359-b36f9e27f334",
   "metadata": {},
   "outputs": [],
   "source": [
    "#shutil.rmtree(preprocessed_val_dir)"
   ]
  },
  {
   "cell_type": "code",
   "execution_count": 3,
   "id": "34bb0bbe",
   "metadata": {},
   "outputs": [],
   "source": [
    "mri_types = ['t1', 't1ce', 't2', 'flair', 'seg']"
   ]
  },
  {
   "cell_type": "code",
   "execution_count": 4,
   "id": "21f51706",
   "metadata": {},
   "outputs": [
    {
     "name": "stdout",
     "output_type": "stream",
     "text": [
      "True\n"
     ]
    }
   ],
   "source": [
    "base_dir = '/home/csanyid/BraTS'\n",
    "data_dir = os.path.join(base_dir, 'data/train')\n",
    "preprocessed_train_dir = os.path.join(base_dir, 'data/preprocessed_train')\n",
    "preprocessed_val_dir = os.path.join(base_dir, 'data/preprocessed_val')\n",
    "os.makedirs(preprocessed_train_dir, exist_ok=True)\n",
    "os.makedirs(preprocessed_val_dir, exist_ok=True)\n",
    "print(os.path.isdir(data_dir))"
   ]
  },
  {
   "cell_type": "markdown",
   "id": "7e1d38ac",
   "metadata": {},
   "source": [
    "flair, \n",
    "seg, \n",
    "t1, \n",
    "t1ce, \n",
    "t2"
   ]
  },
  {
   "cell_type": "code",
   "execution_count": 5,
   "id": "e2266db7",
   "metadata": {},
   "outputs": [],
   "source": [
    "properties = {}"
   ]
  },
  {
   "cell_type": "code",
   "execution_count": 20,
   "id": "8c020ac9",
   "metadata": {},
   "outputs": [
    {
     "ename": "KeyboardInterrupt",
     "evalue": "",
     "output_type": "error",
     "traceback": [
      "\u001b[0;31m---------------------------------------------------------------------------\u001b[0m",
      "\u001b[0;31mKeyboardInterrupt\u001b[0m                         Traceback (most recent call last)",
      "\u001b[0;32m<ipython-input-20-43ca37c04c94>\u001b[0m in \u001b[0;36m<module>\u001b[0;34m\u001b[0m\n\u001b[1;32m     33\u001b[0m     }\n\u001b[1;32m     34\u001b[0m     \u001b[0;32mfor\u001b[0m \u001b[0mkey\u001b[0m\u001b[0;34m,\u001b[0m \u001b[0mi\u001b[0m \u001b[0;32min\u001b[0m \u001b[0mimages\u001b[0m\u001b[0;34m.\u001b[0m\u001b[0mitems\u001b[0m\u001b[0;34m(\u001b[0m\u001b[0;34m)\u001b[0m\u001b[0;34m:\u001b[0m\u001b[0;34m\u001b[0m\u001b[0;34m\u001b[0m\u001b[0m\n\u001b[0;32m---> 35\u001b[0;31m         \u001b[0mproperties\u001b[0m\u001b[0;34m[\u001b[0m\u001b[0mcase_id\u001b[0m\u001b[0;34m]\u001b[0m\u001b[0;34m[\u001b[0m\u001b[0mkey\u001b[0m\u001b[0;34m+\u001b[0m\u001b[0;34m'_min_max'\u001b[0m\u001b[0;34m]\u001b[0m \u001b[0;34m=\u001b[0m \u001b[0;34m[\u001b[0m\u001b[0mint\u001b[0m\u001b[0;34m(\u001b[0m\u001b[0mi\u001b[0m\u001b[0;34m.\u001b[0m\u001b[0mmin\u001b[0m\u001b[0;34m(\u001b[0m\u001b[0;34m)\u001b[0m\u001b[0;34m)\u001b[0m\u001b[0;34m,\u001b[0m \u001b[0mint\u001b[0m\u001b[0;34m(\u001b[0m\u001b[0mi\u001b[0m\u001b[0;34m.\u001b[0m\u001b[0mmax\u001b[0m\u001b[0;34m(\u001b[0m\u001b[0;34m)\u001b[0m\u001b[0;34m)\u001b[0m\u001b[0;34m]\u001b[0m\u001b[0;34m\u001b[0m\u001b[0;34m\u001b[0m\u001b[0m\n\u001b[0m",
      "\u001b[0;32m~/anaconda3/envs/lain_new/lib/python3.7/site-packages/numpy/core/_methods.py\u001b[0m in \u001b[0;36m_amax\u001b[0;34m(a, axis, out, keepdims, initial, where)\u001b[0m\n\u001b[1;32m     37\u001b[0m def _amax(a, axis=None, out=None, keepdims=False,\n\u001b[1;32m     38\u001b[0m           initial=_NoValue, where=True):\n\u001b[0;32m---> 39\u001b[0;31m     \u001b[0;32mreturn\u001b[0m \u001b[0mumr_maximum\u001b[0m\u001b[0;34m(\u001b[0m\u001b[0ma\u001b[0m\u001b[0;34m,\u001b[0m \u001b[0maxis\u001b[0m\u001b[0;34m,\u001b[0m \u001b[0;32mNone\u001b[0m\u001b[0;34m,\u001b[0m \u001b[0mout\u001b[0m\u001b[0;34m,\u001b[0m \u001b[0mkeepdims\u001b[0m\u001b[0;34m,\u001b[0m \u001b[0minitial\u001b[0m\u001b[0;34m,\u001b[0m \u001b[0mwhere\u001b[0m\u001b[0;34m)\u001b[0m\u001b[0;34m\u001b[0m\u001b[0;34m\u001b[0m\u001b[0m\n\u001b[0m\u001b[1;32m     40\u001b[0m \u001b[0;34m\u001b[0m\u001b[0m\n\u001b[1;32m     41\u001b[0m def _amin(a, axis=None, out=None, keepdims=False,\n",
      "\u001b[0;31mKeyboardInterrupt\u001b[0m: "
     ]
    }
   ],
   "source": [
    "#collect properties\n",
    "for folder in [i for i in os.listdir(data_dir) if os.path.isdir(os.path.join(data_dir, i))]:\n",
    "    case_id = folder[-3:]\n",
    "    seg_name = os.path.join(data_dir, folder, folder + '_seg.nii')\n",
    "    images = {}\n",
    "    for t in mri_types:\n",
    "        image_name = os.path.join(data_dir, folder, folder + '_' + t + '.nii')\n",
    "        image = sitk.GetArrayFromImage(sitk.ReadImage(image_name))\n",
    "        images[t] = image\n",
    "    voxel_cnt = np.prod(images['seg'].shape)\n",
    "    label0_cnt = np.count_nonzero(images['seg']==0)\n",
    "    label1_cnt = np.count_nonzero(images['seg']==1)\n",
    "    label2_cnt = np.count_nonzero(images['seg']==2)\n",
    "    label4_cnt = np.count_nonzero(images['seg']==4)\n",
    "    label_other_cnt = voxel_cnt - label0_cnt - label1_cnt - label2_cnt - label4_cnt\n",
    "    shape = []\n",
    "    for i in images['seg'].shape:\n",
    "        shape.append(int(i))\n",
    "    all_shape_standard = True\n",
    "    for key, i in images.items():\n",
    "        if i.shape != (155, 240, 240):\n",
    "            all_shape_standard = False\n",
    "            print('Not standard shape: ', case_id, ' ', key)\n",
    "    properties[case_id] = {\n",
    "        'seg shape' : shape,\n",
    "        'all_shape_standard' : all_shape_standard,\n",
    "        'voxel_cnt' : int(voxel_cnt),\n",
    "        'label0_cnt' : int(label0_cnt),\n",
    "        'label1_cnt' : int(label1_cnt),\n",
    "        'label2_cnt' : int(label2_cnt),\n",
    "        'label4_cnt' : int(label4_cnt),\n",
    "        'label_other_cnt' : int(label_other_cnt)\n",
    "    }\n",
    "    \n",
    "    for key, i in images.items():\n",
    "        properties[case_id][key+'_min_max'] = [int(i.min()), int(i.max())]"
   ]
  },
  {
   "cell_type": "code",
   "execution_count": null,
   "id": "9eb7821b",
   "metadata": {},
   "outputs": [],
   "source": [
    "with open('./properties.json', 'w') as f:\n",
    "    json.dump(properties, f)"
   ]
  },
  {
   "cell_type": "code",
   "execution_count": null,
   "id": "a8423e17",
   "metadata": {},
   "outputs": [],
   "source": [
    "properties['007']"
   ]
  },
  {
   "cell_type": "code",
   "execution_count": 6,
   "id": "b6779c4f",
   "metadata": {},
   "outputs": [
    {
     "ename": "NameError",
     "evalue": "name 'images' is not defined",
     "output_type": "error",
     "traceback": [
      "\u001b[0;31m---------------------------------------------------------------------------\u001b[0m",
      "\u001b[0;31mNameError\u001b[0m                                 Traceback (most recent call last)",
      "\u001b[0;32m<ipython-input-6-7d263af21e0e>\u001b[0m in \u001b[0;36m<module>\u001b[0;34m\u001b[0m\n\u001b[1;32m      5\u001b[0m     \u001b[0mimage_name\u001b[0m \u001b[0;34m=\u001b[0m \u001b[0mos\u001b[0m\u001b[0;34m.\u001b[0m\u001b[0mpath\u001b[0m\u001b[0;34m.\u001b[0m\u001b[0mjoin\u001b[0m\u001b[0;34m(\u001b[0m\u001b[0mdata_dir\u001b[0m\u001b[0;34m,\u001b[0m \u001b[0mfolder\u001b[0m\u001b[0;34m,\u001b[0m \u001b[0mfolder\u001b[0m \u001b[0;34m+\u001b[0m \u001b[0;34m'_'\u001b[0m \u001b[0;34m+\u001b[0m \u001b[0mt\u001b[0m \u001b[0;34m+\u001b[0m \u001b[0;34m'.nii'\u001b[0m\u001b[0;34m)\u001b[0m\u001b[0;34m\u001b[0m\u001b[0;34m\u001b[0m\u001b[0m\n\u001b[1;32m      6\u001b[0m     \u001b[0mimage\u001b[0m \u001b[0;34m=\u001b[0m \u001b[0msitk\u001b[0m\u001b[0;34m.\u001b[0m\u001b[0mGetArrayFromImage\u001b[0m\u001b[0;34m(\u001b[0m\u001b[0msitk\u001b[0m\u001b[0;34m.\u001b[0m\u001b[0mReadImage\u001b[0m\u001b[0;34m(\u001b[0m\u001b[0mimage_name\u001b[0m\u001b[0;34m)\u001b[0m\u001b[0;34m)\u001b[0m\u001b[0;34m\u001b[0m\u001b[0;34m\u001b[0m\u001b[0m\n\u001b[0;32m----> 7\u001b[0;31m     \u001b[0mimages\u001b[0m\u001b[0;34m[\u001b[0m\u001b[0mt\u001b[0m\u001b[0;34m]\u001b[0m \u001b[0;34m=\u001b[0m \u001b[0mimage\u001b[0m\u001b[0;34m\u001b[0m\u001b[0;34m\u001b[0m\u001b[0m\n\u001b[0m\u001b[1;32m      8\u001b[0m \u001b[0mprint\u001b[0m\u001b[0;34m(\u001b[0m\u001b[0mimages\u001b[0m\u001b[0;34m[\u001b[0m\u001b[0;34m'seg'\u001b[0m\u001b[0;34m]\u001b[0m\u001b[0;34m.\u001b[0m\u001b[0mshape\u001b[0m\u001b[0;34m)\u001b[0m\u001b[0;34m\u001b[0m\u001b[0;34m\u001b[0m\u001b[0m\n\u001b[1;32m      9\u001b[0m \u001b[0mprint\u001b[0m\u001b[0;34m(\u001b[0m\u001b[0mimages\u001b[0m\u001b[0;34m[\u001b[0m\u001b[0;34m't1'\u001b[0m\u001b[0;34m]\u001b[0m\u001b[0;34m.\u001b[0m\u001b[0mshape\u001b[0m\u001b[0;34m)\u001b[0m\u001b[0;34m\u001b[0m\u001b[0;34m\u001b[0m\u001b[0m\n",
      "\u001b[0;31mNameError\u001b[0m: name 'images' is not defined"
     ]
    }
   ],
   "source": [
    "i = 2\n",
    "folders = [i for i in os.listdir(data_dir) if os.path.isdir(os.path.join(data_dir, i))]\n",
    "folder = folders[i]\n",
    "for t in mri_types:\n",
    "    image_name = os.path.join(data_dir, folder, folder + '_' + t + '.nii')\n",
    "    image = sitk.GetArrayFromImage(sitk.ReadImage(image_name))\n",
    "    images[t] = image\n",
    "print(images['seg'].shape)\n",
    "print(images['t1'].shape)\n",
    "print(images['t1ce'].shape)\n",
    "print(images['t2'].shape)\n",
    "print(images['flair'].shape)"
   ]
  },
  {
   "cell_type": "code",
   "execution_count": 7,
   "id": "7294a62f",
   "metadata": {},
   "outputs": [
    {
     "ename": "NameError",
     "evalue": "name 'images' is not defined",
     "output_type": "error",
     "traceback": [
      "\u001b[0;31m---------------------------------------------------------------------------\u001b[0m",
      "\u001b[0;31mNameError\u001b[0m                                 Traceback (most recent call last)",
      "\u001b[0;32m<ipython-input-7-7fc17ea077d1>\u001b[0m in \u001b[0;36m<module>\u001b[0;34m\u001b[0m\n\u001b[1;32m      7\u001b[0m         \u001b[0mimage_name\u001b[0m \u001b[0;34m=\u001b[0m \u001b[0mos\u001b[0m\u001b[0;34m.\u001b[0m\u001b[0mpath\u001b[0m\u001b[0;34m.\u001b[0m\u001b[0mjoin\u001b[0m\u001b[0;34m(\u001b[0m\u001b[0mdata_dir\u001b[0m\u001b[0;34m,\u001b[0m \u001b[0mfolder\u001b[0m\u001b[0;34m,\u001b[0m \u001b[0mfolder\u001b[0m \u001b[0;34m+\u001b[0m \u001b[0;34m'_'\u001b[0m \u001b[0;34m+\u001b[0m \u001b[0mt\u001b[0m \u001b[0;34m+\u001b[0m \u001b[0;34m'.nii'\u001b[0m\u001b[0;34m)\u001b[0m\u001b[0;34m\u001b[0m\u001b[0;34m\u001b[0m\u001b[0m\n\u001b[1;32m      8\u001b[0m         \u001b[0mimage\u001b[0m \u001b[0;34m=\u001b[0m \u001b[0msitk\u001b[0m\u001b[0;34m.\u001b[0m\u001b[0mGetArrayFromImage\u001b[0m\u001b[0;34m(\u001b[0m\u001b[0msitk\u001b[0m\u001b[0;34m.\u001b[0m\u001b[0mReadImage\u001b[0m\u001b[0;34m(\u001b[0m\u001b[0mimage_name\u001b[0m\u001b[0;34m)\u001b[0m\u001b[0;34m)\u001b[0m\u001b[0;34m\u001b[0m\u001b[0;34m\u001b[0m\u001b[0m\n\u001b[0;32m----> 9\u001b[0;31m         \u001b[0mimages\u001b[0m\u001b[0;34m[\u001b[0m\u001b[0mt\u001b[0m\u001b[0;34m]\u001b[0m \u001b[0;34m=\u001b[0m \u001b[0mimage\u001b[0m\u001b[0;34m\u001b[0m\u001b[0;34m\u001b[0m\u001b[0m\n\u001b[0m\u001b[1;32m     10\u001b[0m \u001b[0;34m\u001b[0m\u001b[0m\n\u001b[1;32m     11\u001b[0m     \u001b[0;31m#dim0_tumor_indices = np.where(images['seg'].max((1, 2))!=0)[0]\u001b[0m\u001b[0;34m\u001b[0m\u001b[0;34m\u001b[0m\u001b[0;34m\u001b[0m\u001b[0m\n",
      "\u001b[0;31mNameError\u001b[0m: name 'images' is not defined"
     ]
    }
   ],
   "source": [
    "patient_cnt = 5\n",
    "fig, ax = plt.subplots(patient_cnt, 5, figsize=(20, 5*patient_cnt))\n",
    "\n",
    "for patient_num in range(patient_cnt):\n",
    "    folder = folders[patient_num+10]\n",
    "    for t in mri_types:\n",
    "        image_name = os.path.join(data_dir, folder, folder + '_' + t + '.nii')\n",
    "        image = sitk.GetArrayFromImage(sitk.ReadImage(image_name))\n",
    "        images[t] = image\n",
    "    \n",
    "    #dim0_tumor_indices = np.where(images['seg'].max((1, 2))!=0)[0]\n",
    "    #dim0_index = dim0_tumor_indices[-1]-dim0_tumor_indices[0]\n",
    "    #print(dim0_index)\n",
    "    \n",
    "    cnt = 0\n",
    "    for key,i in images.items():\n",
    "        ax[patient_num][cnt].imshow(i[i.shape[0]//2, :,:], cmap = 'gray')\n",
    "        ax[patient_num][cnt].set_title(key)\n",
    "        cnt += 1"
   ]
  },
  {
   "cell_type": "code",
   "execution_count": null,
   "id": "3b398970",
   "metadata": {},
   "outputs": [],
   "source": [
    "for i in range(0, seg.shape[0], 10):\n",
    "    plt.imshow(seg[i, :, :], cmap='gray')\n",
    "    plt.show()\n",
    "    plt.imshow(t1[i, :, :], cmap='gray')\n",
    "    plt.show()"
   ]
  },
  {
   "cell_type": "code",
   "execution_count": null,
   "id": "97fc22bc",
   "metadata": {},
   "outputs": [],
   "source": [
    "    plt.imshow(t1[:, :, 120], cmap='gray')\n",
    "    plt.show()"
   ]
  },
  {
   "cell_type": "code",
   "execution_count": null,
   "id": "29bdfacf",
   "metadata": {},
   "outputs": [],
   "source": [
    "from pylab import rcParams\n",
    "rcParams['figure.figsize'] = 10, 10"
   ]
  },
  {
   "cell_type": "code",
   "execution_count": 7,
   "id": "8476f177",
   "metadata": {},
   "outputs": [
    {
     "name": "stdout",
     "output_type": "stream",
     "text": [
      "(5, 160, 256, 256)\n"
     ]
    },
    {
     "data": {
      "image/png": "[encoded data removed]",
      "text/plain": [
       "<Figure size 432x288 with 1 Axes>"
      ]
     },
     "metadata": {
      "needs_background": "light"
     },
     "output_type": "display_data"
    },
    {
     "data": {
      "text/plain": [
       "(array([  0,   5,   6,   7,   8,   9,  10,  11,  12,  13,  14,  15,  16,\n",
       "         17,  18,  19,  20,  21,  22,  23,  24,  25,  26,  27,  28,  29,\n",
       "         30,  31,  32,  33,  34,  35,  36,  37,  38,  39,  40,  41,  42,\n",
       "         43,  44,  45,  46,  47,  48,  49,  50,  51,  52,  53,  54,  55,\n",
       "         56,  57,  58,  59,  60,  61,  62,  63,  64,  65,  66,  67,  68,\n",
       "         69,  70,  71,  72,  73,  74,  75,  76,  77,  78,  79,  80,  81,\n",
       "         82,  83,  84,  85,  86,  87,  88,  89,  90,  91,  92,  93,  94,\n",
       "         95,  96,  97,  98,  99, 100, 101, 102, 103, 104, 105, 106, 107,\n",
       "        108, 109, 110, 111, 112, 113, 114, 115, 116, 117, 118, 119, 120,\n",
       "        121, 122, 123, 124, 125, 126, 127, 128, 129, 130, 131, 132, 133,\n",
       "        134, 135, 136, 137, 138, 139, 140, 141, 142, 143, 144, 145, 146,\n",
       "        147, 148, 149, 150, 151, 152, 153, 154, 155, 156, 157, 158, 159,\n",
       "        160, 161, 162, 163, 164, 165, 166, 167, 168, 169, 170, 171, 172,\n",
       "        173, 174, 175, 176, 177, 178, 179, 180, 181, 182, 183, 184, 185,\n",
       "        186, 187, 188, 189, 190, 191, 192, 193, 194, 195, 196, 197, 198,\n",
       "        199, 200, 201, 202, 203, 204, 205, 206, 207, 208, 209, 210, 211,\n",
       "        212, 213, 214, 215, 216, 217, 218, 219, 220, 221, 222, 223, 224,\n",
       "        225, 226, 227, 228, 229, 230, 231, 232, 233, 234, 235, 236, 237,\n",
       "        238, 239, 240, 241, 242, 243, 244, 245, 246, 247, 248, 249, 250,\n",
       "        251, 252, 253, 254, 255, 256, 257, 258, 259, 260, 261, 262, 263,\n",
       "        264, 265, 266, 267, 268, 269, 270, 271, 272, 273, 274, 275, 276,\n",
       "        277, 278, 279, 280, 281, 282, 283, 284, 285, 286, 287, 288, 289,\n",
       "        290, 291, 292, 293, 294, 295, 296, 297, 298, 299, 300, 301, 302,\n",
       "        303, 304, 305, 306, 307, 308, 309, 310, 311, 312, 313, 314, 315,\n",
       "        316, 317, 318, 319, 320, 321, 322, 323, 324, 325, 326, 327, 328,\n",
       "        329, 330, 331, 332, 333, 334, 335, 336, 337, 338, 339, 340, 341,\n",
       "        342, 343, 344, 345, 346, 347, 348, 350, 351, 352, 353, 354, 355,\n",
       "        357, 363, 365, 368, 370, 373, 374, 376], dtype=int16),\n",
       " array([9142875,       2,       5,      11,      42,      77,      74,\n",
       "             87,      92,      95,      98,     128,     118,     110,\n",
       "            139,     140,     134,     109,     129,     146,     155,\n",
       "            162,     149,     149,     181,     187,     183,     201,\n",
       "            206,     211,     225,     229,     240,     276,     257,\n",
       "            259,     292,     323,     354,     381,     447,     498,\n",
       "            570,     664,     814,    1019,    1170,    1458,    1808,\n",
       "           2154,    2525,    2946,    3484,    4111,    4754,    5393,\n",
       "           6108,    6996,    7779,    8690,    9650,   10595,   11234,\n",
       "          12425,   13188,   13688,   14302,   15423,   15852,   16373,\n",
       "          17118,   17418,   17525,   17910,   18046,   17970,   18265,\n",
       "          18182,   18333,   18194,   18415,   17852,   17778,   17786,\n",
       "          17289,   17336,   17372,   17004,   16844,   16383,   15883,\n",
       "          15922,   15786,   15384,   15278,   15145,   14856,   14261,\n",
       "          14253,   13891,   13706,   13583,   13319,   12676,   12812,\n",
       "          12234,   12099,   11857,   11636,   11466,   11153,   10916,\n",
       "          10448,   10317,   10056,    9769,    9559,    9094,    9006,\n",
       "           8952,    8717,    8172,    8140,    7936,    7682,    7443,\n",
       "           7143,    7080,    6892,    6649,    6370,    6371,    6093,\n",
       "           5933,    5711,    5594,    5325,    5058,    5116,    4956,\n",
       "           4948,    4648,    4513,    4412,    4352,    4226,    3981,\n",
       "           3916,    3870,    3638,    3623,    3605,    3555,    3442,\n",
       "           3378,    3278,    3251,    3204,    3033,    3032,    3050,\n",
       "           3011,    3002,    2975,    2943,    2977,    2948,    2860,\n",
       "           2801,    2784,    2789,    2860,    2889,    2722,    2697,\n",
       "           2640,    2569,    2608,    2561,    2648,    2578,    2580,\n",
       "           2592,    2630,    2549,    2388,    2527,    2417,    2398,\n",
       "           2508,    2403,    2435,    2441,    2359,    2458,    2410,\n",
       "           2349,    2308,    2341,    2292,    2307,    2277,    2229,\n",
       "           2227,    2185,    2145,    2206,    2195,    2098,    2031,\n",
       "           2029,    2000,    1985,    1889,    1948,    1904,    1829,\n",
       "           1897,    1748,    1711,    1712,    1671,    1703,    1620,\n",
       "           1518,    1535,    1473,    1426,    1407,    1341,    1310,\n",
       "           1297,    1257,    1353,    1203,    1204,    1287,    1239,\n",
       "           1177,    1193,    1107,    1106,    1098,    1120,    1040,\n",
       "           1027,    1016,    1000,     978,     928,     861,     818,\n",
       "            790,     763,     754,     727,     687,     638,     590,\n",
       "            614,     568,     563,     494,     519,     516,     506,\n",
       "            472,     405,     413,     384,     391,     332,     362,\n",
       "            323,     290,     288,     294,     277,     246,     268,\n",
       "            258,     230,     203,     206,     176,     156,     170,\n",
       "            158,     148,     130,     125,     140,     131,     101,\n",
       "            104,     106,      97,      83,      68,      87,      99,\n",
       "             68,      80,      62,      63,      50,      57,      62,\n",
       "             48,      51,      42,      45,      41,      38,      33,\n",
       "             34,      38,      33,      27,      28,      16,      25,\n",
       "             20,      20,      13,      18,      10,      10,      14,\n",
       "             10,      13,       7,       8,      10,       5,       9,\n",
       "              9,       6,       5,       9,       7,       4,       3,\n",
       "              6,       3,       2,       1,       1,       1,       1,\n",
       "              1,       1,       1,       1,       2,       1,       1,\n",
       "              1,       1]))"
      ]
     },
     "execution_count": 7,
     "metadata": {},
     "output_type": "execute_result"
    }
   ],
   "source": [
    "a = np.load(os.path.join(preprocessed_train_dir, '001.npy'))\n",
    "print(a.shape)\n",
    "plt.imshow(a[1, 140])\n",
    "plt.show()\n",
    "np.unique(a[2], return_counts = True)"
   ]
  },
  {
   "cell_type": "code",
   "execution_count": 60,
   "id": "c9b9c447-264c-4c98-8621-140fe7196bd8",
   "metadata": {},
   "outputs": [
    {
     "name": "stdout",
     "output_type": "stream",
     "text": [
      "0\n",
      "20\n",
      "40\n",
      "60\n",
      "80\n",
      "100\n",
      "120\n",
      "140\n",
      "160\n",
      "180\n",
      "200\n",
      "220\n",
      "240\n",
      "260\n",
      "\n",
      " 49 185\n"
     ]
    }
   ],
   "source": [
    "minx = 100\n",
    "maxx = 100\n",
    "for i in range(270):\n",
    "    a = np.load(os.path.join(preprocessed_train_dir, '001.npy'))\n",
    "    for j in range(4):\n",
    "        x, y, z = np.where(a[0] != 0)\n",
    "        z = np.unique(z)\n",
    "        curr_minx = np.min(z)\n",
    "        if curr_minx < minx:\n",
    "            minx = curr_minx\n",
    "        curr_maxx = np.max(z)\n",
    "        if curr_maxx > maxx:\n",
    "            maxx = curr_maxx\n",
    "    if i%20 == 0:\n",
    "        print(i)\n",
    "        \n",
    "print('\\n', minx, maxx)"
   ]
  },
  {
   "cell_type": "code",
   "execution_count": 62,
   "id": "6b1d3b6f-7a93-4733-9787-21765a02cff2",
   "metadata": {},
   "outputs": [
    {
     "data": {
      "text/plain": [
       "'\\nz\\ny 42, 214\\nx 49 214\\n'"
      ]
     },
     "execution_count": 62,
     "metadata": {},
     "output_type": "execute_result"
    }
   ],
   "source": [
    "\"\"\"\n",
    "z\n",
    "y 42, 214\n",
    "x 49 214\n",
    "\"\"\""
   ]
  },
  {
   "cell_type": "code",
   "execution_count": 45,
   "id": "c6102218-19c0-45d5-899a-28158a02f206",
   "metadata": {},
   "outputs": [
    {
     "data": {
      "text/plain": [
       "144"
      ]
     },
     "execution_count": 45,
     "metadata": {},
     "output_type": "execute_result"
    }
   ],
   "source": [
    "16*9"
   ]
  },
  {
   "cell_type": "code",
   "execution_count": 36,
   "id": "3d2b2f52-c295-437c-8f1f-456f185e0710",
   "metadata": {},
   "outputs": [
    {
     "name": "stdout",
     "output_type": "stream",
     "text": [
      "[  6   7   8   9  10  11  12  13  14  15  16  17  18  19  20  21  22  23\n",
      "  24  25  26  27  28  29  30  31  32  33  34  35  36  37  38  39  40  41\n",
      "  42  43  44  45  46  47  48  49  50  51  52  53  54  55  56  57  58  59\n",
      "  60  61  62  63  64  65  66  67  68  69  70  71  72  73  74  75  76  77\n",
      "  78  79  80  81  82  83  84  85  86  87  88  89  90  91  92  93  94  95\n",
      "  96  97  98  99 100 101 102 103 104 105 106 107 108 109 110 111 112 113\n",
      " 114 115 116 117 118 119 120 121 122 123 124 125 126 127 128 129 130 131\n",
      " 132 133 134 135 136 137 138 139 140]\n"
     ]
    }
   ],
   "source": [
    "x, y, z = np.where(a[3] != 0)\n",
    "print(np.unique(x))"
   ]
  },
  {
   "cell_type": "code",
   "execution_count": null,
   "id": "44527748-1460-4736-9e75-f10a6becac1d",
   "metadata": {},
   "outputs": [],
   "source": []
  }
 ],
 "metadata": {
  "kernelspec": {
   "display_name": "Python 3",
   "language": "python",
   "name": "python3"
  },
  "language_info": {
   "codemirror_mode": {
    "name": "ipython",
    "version": 3
   },
   "file_extension": ".py",
   "mimetype": "text/x-python",
   "name": "python",
   "nbconvert_exporter": "python",
   "pygments_lexer": "ipython3",
   "version": "3.7.11"
  }
 },
 "nbformat": 4,
 "nbformat_minor": 5
}
