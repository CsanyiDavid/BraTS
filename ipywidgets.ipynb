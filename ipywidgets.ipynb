{
 "cells": [
  {
   "cell_type": "code",
   "execution_count": 1,
   "id": "a674e6b1-2871-4980-93be-67ee186ca06a",
   "metadata": {},
   "outputs": [],
   "source": [
    "import os\n",
    "import numpy as np\n",
    "import ipywidgets as widgets\n",
    "from ipywidgets import interact_manual, interact, IntSlider\n",
    "import matplotlib.pyplot as plt\n",
    "import SimpleITK as sitk"
   ]
  },
  {
   "cell_type": "code",
   "execution_count": 11,
   "id": "de3e7f8e-f255-4b48-8cab-d4cd88b593d0",
   "metadata": {},
   "outputs": [
    {
     "name": "stdout",
     "output_type": "stream",
     "text": [
      "True\n"
     ]
    }
   ],
   "source": [
    "mri_types = ['t1', 't1ce', 't2', 'flair', 'seg']\n",
    "base_dir = '/home/csanyid/BraTS/'\n",
    "print(os.path.isdir(base_dir))\n",
    "data_dir = os.path.join(base_dir, 'data/train')\n",
    "names = sorted([i for i in os.listdir(data_dir) if os.path.isdir(os.path.join(data_dir, i))])"
   ]
  },
  {
   "cell_type": "code",
   "execution_count": 12,
   "id": "af9fc275-334f-40ff-9f9a-5f05e6d3de1c",
   "metadata": {},
   "outputs": [
    {
     "data": {
      "application/vnd.jupyter.widget-view+json": {
       "model_id": "f5d87514fdcd49ad9e5d86e8d921117f",
       "version_major": 2,
       "version_minor": 0
      },
      "text/plain": [
       "interactive(children=(Dropdown(description='patient', options=('.ipynb_checkpoints', 'BraTS20_Training_001', '…"
      ]
     },
     "metadata": {},
     "output_type": "display_data"
    }
   ],
   "source": [
    "@interact_manual\n",
    "def choose_patient(patient=names):\n",
    "    \n",
    "    @interact_manual\n",
    "    def choose_mri_type(mri_type = mri_types):\n",
    "        \n",
    "        slider = IntSlider(value=77, min=0, max=154, step=1, orientation='horizontal', \n",
    "                               continuous_update = True, readout=True)\n",
    "        \n",
    "        @interact\n",
    "        def show_slice(coord_z = slider):\n",
    "            image_name = os.path.join(data_dir, patient, patient + '_' + mri_type + '.nii')\n",
    "            image = sitk.GetArrayFromImage(sitk.ReadImage(image_name))\n",
    "\n",
    "            plt.figure(figsize=(8, 8))\n",
    "            plt.imshow(image[coord_z], cmap='gray')\n",
    "            plt.axis('off')\n",
    "            plt.show()\n",
    "    \n"
   ]
  },
  {
   "cell_type": "code",
   "execution_count": 7,
   "id": "116b54dd-66f7-404d-b78e-890aba81658c",
   "metadata": {},
   "outputs": [
    {
     "name": "stdout",
     "output_type": "stream",
     "text": [
      "0\n",
      "0\n",
      "1\n",
      "0\n",
      "0\n",
      "1\n",
      "0\n",
      "1\n",
      "1\n",
      "1\n"
     ]
    }
   ],
   "source": [
    "import random\n",
    "for i in range(10):\n",
    "    print(random.randint(0, 1))"
   ]
  },
  {
   "cell_type": "code",
   "execution_count": null,
   "id": "63e1c13d-7461-4d12-8862-1121ac6702b3",
   "metadata": {},
   "outputs": [],
   "source": []
  }
 ],
 "metadata": {
  "kernelspec": {
   "display_name": "Python 3",
   "language": "python",
   "name": "python3"
  },
  "language_info": {
   "codemirror_mode": {
    "name": "ipython",
    "version": 3
   },
   "file_extension": ".py",
   "mimetype": "text/x-python",
   "name": "python",
   "nbconvert_exporter": "python",
   "pygments_lexer": "ipython3",
   "version": "3.7.11"
  }
 },
 "nbformat": 4,
 "nbformat_minor": 5
}
