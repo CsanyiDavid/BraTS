{
 "cells": [
  {
   "cell_type": "code",
   "execution_count": 1,
   "id": "3f139e0a",
   "metadata": {},
   "outputs": [
    {
     "name": "stdout",
     "output_type": "stream",
     "text": [
      "AUGMENTATION:  True\n"
     ]
    }
   ],
   "source": [
    "import torch\n",
    "from torch import nn\n",
    "import torch.nn.functional as F\n",
    "import numpy as np\n",
    "from dataloader import train_dl, val_dl\n",
    "from unet import UNet, ConvBlock\n",
    "from loss_functions import DiceLoss, FocalTverskyLoss\n",
    "from tqdm import tqdm\n",
    "import matplotlib.pyplot as plt\n",
    "import json\n",
    "import time\n",
    "import os\n",
    "from tqdm import tqdm"
   ]
  },
  {
   "cell_type": "code",
   "execution_count": 2,
   "id": "b0f477d4-f283-4bb7-8ba1-74a6c6f33b21",
   "metadata": {},
   "outputs": [],
   "source": [
    "shape = (144, 240, 240)"
   ]
  },
  {
   "cell_type": "code",
   "execution_count": 3,
   "id": "00e4871c-5670-4167-8c1b-b0afa73ccfaf",
   "metadata": {},
   "outputs": [
    {
     "name": "stdout",
     "output_type": "stream",
     "text": [
      "cuda available:  True\n",
      "device name:  NVIDIA GeForce RTX 3090\n",
      "device info:  _CudaDeviceProperties(name='NVIDIA GeForce RTX 3090', major=8, minor=6, total_memory=24259MB, multi_processor_count=82)\n"
     ]
    }
   ],
   "source": [
    "print('cuda available: ', torch.cuda.is_available())\n",
    "device = torch.device(\"cuda:0\")\n",
    "print('device name: ', torch.cuda.get_device_name(device))\n",
    "print('device info: ', torch.cuda.get_device_properties(device))\n",
    "#torch.cuda.memory_summary()"
   ]
  },
  {
   "cell_type": "code",
   "execution_count": 4,
   "id": "dbb3d19f",
   "metadata": {},
   "outputs": [
    {
     "data": {
      "text/plain": [
       "\"\\nmodel = UNet().to(device)\\n\\nx = torch.zeros((1,1,144,240,240)).to('cuda')\\n\\nbase_dir = '/home/csanyid/BraTS'\\ndata_dir = os.path.join(base_dir, 'data/train')\\npreprocessed_train_dir = os.path.join(base_dir, 'data/preprocessed_train')\\npreprocessed_val_dir = os.path.join(base_dir, 'data/preprocessed_val')\\na = np.load(os.path.join(preprocessed_train_dir, '001.npy'))\\na = torch.from_numpy(a).to('cuda', dtype = torch.float)\\n\\n\\nprint('net output shape ', model(a[None, 0:4, ...]).shape)\\n\""
      ]
     },
     "execution_count": 4,
     "metadata": {},
     "output_type": "execute_result"
    }
   ],
   "source": [
    "\"\"\"\n",
    "model = UNet().to(device)\n",
    "\n",
    "x = torch.zeros((1,1,144,240,240)).to('cuda')\n",
    "\n",
    "base_dir = '/home/csanyid/BraTS'\n",
    "data_dir = os.path.join(base_dir, 'data/train')\n",
    "preprocessed_train_dir = os.path.join(base_dir, 'data/preprocessed_train')\n",
    "preprocessed_val_dir = os.path.join(base_dir, 'data/preprocessed_val')\n",
    "a = np.load(os.path.join(preprocessed_train_dir, '001.npy'))\n",
    "a = torch.from_numpy(a).to('cuda', dtype = torch.float)\n",
    "\n",
    "\n",
    "print('net output shape ', model(a[None, 0:4, ...]).shape)\n",
    "\"\"\""
   ]
  },
  {
   "cell_type": "code",
   "execution_count": 5,
   "id": "42d556d0-356a-4b9f-8b8e-a3154c806eea",
   "metadata": {},
   "outputs": [],
   "source": [
    "#model = UNet().to(device)\n",
    "model = torch.load('train_2/model.pth').to(device)\n",
    "#loss_fn = DiceLoss()\n",
    "loss_fn = FocalTverskyLoss()\n",
    "optimizer = torch.optim.SGD(model.parameters(), lr=1e-3)\n",
    "epochs = 2000"
   ]
  },
  {
   "cell_type": "code",
   "execution_count": null,
   "id": "907cebf3",
   "metadata": {},
   "outputs": [],
   "source": [
    "#Train\n",
    "def train(dataloader, model, loss_fn, optimizer):\n",
    "    print('train')\n",
    "    size = len(dataloader.dataset)\n",
    "    losses = []\n",
    "    model.train()\n",
    "    for batch, (x, y) in tqdm(enumerate(dataloader)):\n",
    "        #if batch % 10 == 0:\n",
    "        #    print('batch: ', batch)\n",
    "        x, y = x.to(device, torch.float32), y.to(device, torch.float32)\n",
    "      \n",
    "        # Compute prediction error\n",
    "        pred = model(x)\n",
    "        loss = loss_fn(pred, y)\n",
    "        losses.append(loss)\n",
    "        \n",
    "        # Backpropagation\n",
    "        optimizer.zero_grad()\n",
    "        loss.backward()\n",
    "        optimizer.step()\n",
    "\n",
    "        #if batch % 100 == 0:\n",
    "        #    loss, current = loss.item(), batch * len(X)\n",
    "        #    print(f\"loss: {loss:>7f}  [{current:>5d}/{size:>5d}]\")\n",
    "    \n",
    "    avg_loss = sum(losses)/len(losses)\n",
    "    print('train loss: ', avg_loss)\n",
    "    return float(avg_loss)\n",
    "\n",
    "def val(dataloader, model, loss_fn):\n",
    "    print('val')\n",
    "    size = len(dataloader.dataset)\n",
    "    losses = []\n",
    "    model.eval()\n",
    "    for batch, (x, y) in tqdm(enumerate(dataloader)):\n",
    "        #if batch%10 == 0:\n",
    "        #    print('val batch: ', batch)\n",
    "        x, y = x.to(device, torch.float32), y.to(device, torch.float32)\n",
    "              \n",
    "        # Compute prediction error\n",
    "        with torch.no_grad():\n",
    "            pred = model(x)\n",
    "            loss = loss_fn(pred, y)\n",
    "        losses.append(loss)\n",
    "\n",
    "        del x, y, pred\n",
    "        torch.cuda.empty_cache()\n",
    "        \n",
    "        #if batch % 100 == 0:\n",
    "        #    loss, current = loss.item(), batch * len(X)\n",
    "        #    print(f\"loss: {loss:>7f}  [{current:>5d}/{size:>5d}]\")\n",
    "\n",
    "    avg_loss = sum(losses)/len(losses)\n",
    "    print('val loss: ', avg_loss)\n",
    "    return float(avg_loss)\n",
    "\n",
    "with open('train_2/train_val_losses.json', 'rb') as f:\n",
    "    data = json.load(f)\n",
    "    train_losses = data['train']\n",
    "    val_losses = data['val']\n",
    "best_val_loss = 1\n",
    "start_time = time.ctime()\n",
    "for t in range(783, epochs):\n",
    "    print(f\"Epoch {t+1}\\n-------------------------------\")\n",
    "    train_loss = train(train_dl, model, loss_fn, optimizer)\n",
    "    train_losses.append(train_loss)\n",
    "    val_loss = val(val_dl, model, loss_fn)\n",
    "    val_losses.append(val_loss)\n",
    "    \n",
    "    torch.save(model, 'model.pth')\n",
    "    model_info = {\n",
    "        'epoch' : t,\n",
    "        'train_loss' : train_loss,\n",
    "        'val_loss' : val_loss,\n",
    "        'time' : time.ctime()\n",
    "    }\n",
    "    with open('model_info.json', 'w') as f:\n",
    "        json.dump(model_info, f)\n",
    "    if val_loss < best_val_loss:\n",
    "        best_val_loss = val_loss\n",
    "        torch.save(model, 'model_best.pth')\n",
    "        with open('model_best_info.json', 'w') as f:\n",
    "            json.dump(model_info, f)\n",
    "            \n",
    "    plt.plot(train_losses, 'b', label='train')\n",
    "    plt.plot(val_losses, 'r', label='val')\n",
    "    plt.ylabel('Loss')\n",
    "    plt.xlabel('Epoch')\n",
    "    plt.legend()\n",
    "    plt.savefig('train_val_scores.jpg')\n",
    "    plt.clf()\n",
    "    \n",
    "    finish_time = time.ctime()\n",
    "    with open('train_val_losses.json', 'w') as f:\n",
    "        json.dump({'train' : train_losses, 'val': val_losses, 'start_time' : start_time, 'finish_time' : finish_time},  f)\n",
    "print(\"Done!\")\n"
   ]
  },
  {
   "cell_type": "code",
   "execution_count": 7,
   "id": "a57b8550-fd5c-46b9-9a07-f6246513f653",
   "metadata": {},
   "outputs": [
    {
     "data": {
      "image/png": "[encoded data removed]",
      "text/plain": [
       "<Figure size 640x480 with 1 Axes>"
      ]
     },
     "metadata": {},
     "output_type": "display_data"
    }
   ],
   "source": [
    "plt.plot(train_losses, 'b', label='train')\n",
    "plt.plot(val_losses, 'r', label='val')\n",
    "plt.ylabel('Loss')\n",
    "plt.xlabel('Epoch')\n",
    "plt.legend()\n",
    "plt.show()"
   ]
  },
  {
   "cell_type": "code",
   "execution_count": null,
   "id": "d51e2640-c856-4467-8a3d-5e6ee4a34d51",
   "metadata": {},
   "outputs": [],
   "source": []
  }
 ],
 "metadata": {
  "kernelspec": {
   "display_name": "Python 3",
   "language": "python",
   "name": "python3"
  },
  "language_info": {
   "codemirror_mode": {
    "name": "ipython",
    "version": 3
   },
   "file_extension": ".py",
   "mimetype": "text/x-python",
   "name": "python",
   "nbconvert_exporter": "python",
   "pygments_lexer": "ipython3",
   "version": "3.7.11"
  }
 },
 "nbformat": 4,
 "nbformat_minor": 5
}
